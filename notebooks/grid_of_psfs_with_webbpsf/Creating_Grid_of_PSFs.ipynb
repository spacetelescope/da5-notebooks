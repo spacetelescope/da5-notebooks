{
 "cells": [
  {
   "cell_type": "markdown",
   "metadata": {},
   "source": [
    "# Creating a Grid of PSFs in WebbPSF with `psf_grid()`"
   ]
  },
  {
   "cell_type": "markdown",
   "metadata": {},
   "source": [
    "In order to use photutils to do PSF-fitting photometry on simulated JWST PSFs, the first step is to create a grid of fiducial PSFs spanning the instrument/detector of choice. This can be done using the `psf_grid()` method in WebbPSF which will output a (list of or single) photutils `GriddedPSFModel` object(s). Users can then use photutils to apply interpolation to the grid to simulate a spatially dependent PSF anywhere on the instrument, without having to perform a full PSF calculation at each location. This faster approach is critical if you're dealing with potentially tens of thousands of stars scattered across many megapixels of detector real estate.\n",
    "\n",
    "This notebook will describe how to use WebbPSF to create these grids of PSFs. \n",
    "\n",
    "See the [Photutils documentation](https://photutils.readthedocs.io/) and the notebook on simulated images and photometry with the `GriddedPSFModel` for detailed instructions on the later steps of this process and how to use a `GriddedPSFModel`. We provide only basic examples here. "
   ]
  },
  {
   "cell_type": "markdown",
   "metadata": {},
   "source": [
    "<img src=\"example_psf_grid.png\" width=350px alt=\"Sample PSF grid showing an example star\">\n",
    "<div style=\"text-align: center; margin-left: 20%; margin-right: 20%; font-style: italic\">Sample PSF grid (blue stars) showing a target (orange star) along with the path to the four closest grid locations.</div>"
   ]
  },
  {
   "cell_type": "markdown",
   "metadata": {},
   "source": [
    "<div class=\"alert alert-warning\">Warning: This notebook creates many large GriddedPSFModel objects and will therefore take a long time to run. The examples iterating over all NIRCam detectors are particularly time consuming. We suggest only running one or two examples as the examples just show the different parameters available when creating the grid of PSFs.</div>"
   ]
  },
  {
   "cell_type": "markdown",
   "metadata": {},
   "source": [
    "For those who have used WebbPSF before, `psf_grid()` is set up in a similar manner to `calc_psf()`. A basic use of this method looks like:"
   ]
  },
  {
   "cell_type": "code",
   "execution_count": null,
   "metadata": {},
   "outputs": [],
   "source": [
    "from astropy.io import fits\n",
    "import matplotlib.pyplot as plt\n",
    "import matplotlib\n",
    "import webbpsf\n",
    "import numpy as np\n",
    "from webbpsf.utils import to_griddedpsfmodel\n",
    "print(\"Notebook tested with WebbPSF 0.8.0, currently running on WebbPSF\", webbpsf.version.version)"
   ]
  },
  {
   "cell_type": "code",
   "execution_count": null,
   "metadata": {},
   "outputs": [],
   "source": [
    "# Create a 3x3 grid of PSFs for NIRCam\n",
    "nrc = webbpsf.NIRCam()\n",
    "nrc.filter = \"F430M\"\n",
    "nrc_grid = nrc.psf_grid(num_psfs=9, all_detectors=False)"
   ]
  },
  {
   "cell_type": "markdown",
   "metadata": {},
   "source": [
    "There is a helper function `display_psf_grid` that lets you visualize the results of that calculation. "
   ]
  },
  {
   "cell_type": "code",
   "execution_count": null,
   "metadata": {},
   "outputs": [],
   "source": [
    "webbpsf.gridded_library.display_psf_grid(nrc_grid)"
   ]
  },
  {
   "cell_type": "markdown",
   "metadata": {},
   "source": [
    "For instruments with multiple detectors, `psf_grid` will iterate over all of them by default. This can take significant time to run. (Note that in the above example, we set `all_detectors=False`  to avoid this).\n",
    "\n",
    "Here is a 4x4 grid, iterated over all 8 SW detectors in NIRCam. Note that since it iterates over multiple detectors, what is returns is a list containing a grid for each detector. This will take a while:"
   ]
  },
  {
   "cell_type": "code",
   "execution_count": null,
   "metadata": {},
   "outputs": [],
   "source": [
    "# Create a grid of PSFs for all detectors in NIRCam\n",
    "nir = webbpsf.NIRCam()\n",
    "nir.filter = \"F090W\"\n",
    "list_of_grids = nir.psf_grid()"
   ]
  },
  {
   "cell_type": "markdown",
   "metadata": {},
   "source": [
    "### Outputs"
   ]
  },
  {
   "cell_type": "markdown",
   "metadata": {},
   "source": [
    "For each instrument/filter/detector combination, `psf_grid()` will return a a `GriddedPSFModel` object containing a 3D array of Z $\\times$ n $\\times$ n. The 3D array represents the Z number of 2D n $\\times$ n PSFs created on the detector. You can check the `grid_xypos` key (or if you save the object as a `FITS` file, the `DET_YX#` header keywords) which will state the position of the PSF on the detector for each of the PSFs. The order of the tuples in `grid_xypos` (and the number in the `FITS` header keyword) refers to the number the PSF is in the 3D array.\n",
    "\n",
    "If you set `all_detectors=True` and the instrument you chose has more than one detector (e.g. NIRCam), `psf_grid()` will return a list of 3D `GriddedPSFModel` objects, with one object per detector. If you defined only 1 detector, or have `all_detectors=True` when your instrument only has 1 detector (e.g. NIRISS), `psf_grid()` will return a single `GriddedPSFModel` object.\n",
    "\n",
    "If you set `save=True`, the `GriddedPSFModel` will be saved as a `FITS` object. This can later be read in and converted back to a `GriddedPSFModel`. The method for how to do this will be detailed below."
   ]
  },
  {
   "cell_type": "markdown",
   "metadata": {},
   "source": [
    "### Summary of Input Parameters for PSF grid calculations"
   ]
  },
  {
   "cell_type": "markdown",
   "metadata": {},
   "source": [
    "\n",
    "Many parameters for the calculation are set _before_ the call to `psf_grid`, by configuring your WebbPSF instrument object in the usual manner:\n",
    "\n",
    "    Parameters to be set before psf_grid()\n",
    "    --------------------------------------\n",
    "    Filter(s)\n",
    "        Set with: inst.filter = str\n",
    "        If you want to run all the filters, you must loop over them\n",
    "    Detector(s)\n",
    "        Set with: inst.detector = str\n",
    "        If you want to run 1 detector, define it like above and set the all_detectors=False in the function call.\n",
    "        If you want to run a list of some detectors, set all_detectors=False and loop over the list.\n",
    "        If you want to run all the detectors, set all_detectors=True\n",
    "    Other WebbPSF attributes\n",
    "        Set with the instrument attribute. E.g. inst.pupil_mask, inst.image_mask, inst.pupilopd, etc.\n",
    "    \n",
    "The parameters in the `psf_grid` function call define the properties of the grid calculation, plus any additional keywords you would like to pass through to `calc_psf` at each field point. \n",
    "\n",
    "    Parameters inside psf_grid()\n",
    "    ----------------------------\n",
    "    num_psfs: int\n",
    "        The total number of fiducial PSFs to be created and saved in the files. This\n",
    "        number must be a square number. Default is 16.\n",
    "        E.g. num_psfs = 16 will create a 4x4 grid of fiducial PSFs.\n",
    "    all_detectors: bool\n",
    "        If True, run all detectors for the instrument (For NIRCam, this will pick out either all \n",
    "        the shortwave or all the longwave detectors). If False, run for the detector set in\n",
    "        the instrument instance. Default is True\n",
    "    use_detsampled_psf: bool\n",
    "        If True, the grid of PSFs returned will be detector sampled (made by binning down the\n",
    "        oversampled PSF). If False, the PSFs will be oversampled by the factor defined by the\n",
    "        oversample/detector_oversample/fft_oversample keywords. Default is False.\n",
    "    single_psf_centered: bool\n",
    "        If num_psfs is set to 1, this defines where that psf is located. If True it will be the\n",
    "        center of the detector, if False it will be the location defined in the WebbPSF\n",
    "        attribute detector_position (reminder - detector_position is (x,y)). Default is True.\n",
    "    save: bool\n",
    "        True/False boolean if you want to save your file. Default is False.\n",
    "    outfile: str\n",
    "        If \"save\" keyword is set to True, your current file will be saved under\n",
    "        \"{outfile}_det_filt.fits\". Default of None will save it in the current\n",
    "        directory as: instr_det_filt_fovp#_samp#_npsf#.fits\n",
    "    overwrite : bool\n",
    "        True/False boolean to overwrite the output file if it already exists. Default\n",
    "        is True.\n",
    "    verbose : bool\n",
    "        True/False boolean to print status updates. Default is True.\n",
    "    **kwargs:\n",
    "        Add any extra arguments to the WebbPSF calc_psf() method call. This includes\n",
    "        the following kwargs (and their default values): source(=None), nlambda(=None),\n",
    "        monochromatic(=None), fov_arcsec(=None), fov_pixels(=101), oversample(=4),\n",
    "        detector_oversample(=None), fft_oversample(=None), normalize(='first'),\n",
    "        add_distortion(=True), and crop_psf(=True)\n"
   ]
  },
  {
   "cell_type": "markdown",
   "metadata": {},
   "source": [
    "## Using a PSF grid"
   ]
  },
  {
   "cell_type": "markdown",
   "metadata": {},
   "source": [
    "`psf_grid` returns an instance of a Photutils `GriddedPSFModel`. This can be evaluated to yield an estimated PSF at any arbitrary location within the grid. That PSF is derived via interpolation, and can be computed much more quickly than a full PSF optical calculation. See the [Photutils documentation](https://photutils.readthedocs.io/) and the notebook on simulated images and photometry for further details. "
   ]
  },
  {
   "cell_type": "code",
   "execution_count": null,
   "metadata": {},
   "outputs": [],
   "source": [
    "# Create a 3x3 grid of PSFs for NIRISS\n",
    "nis = webbpsf.NIRISS()\n",
    "nis.filter = \"F430M\"\n",
    "nis_grid = nis.psf_grid(num_psfs=9, verbose=False)"
   ]
  },
  {
   "cell_type": "code",
   "execution_count": null,
   "metadata": {},
   "outputs": [],
   "source": [
    "# Let's get a PSF near the corner of the detector\n",
    "y, x = np.mgrid[0:50, 0:50]\n",
    "psf = nis_grid.evaluate(x=x, y=y, flux=1, x_0=25, y_0=25)\n",
    "\n",
    "# And closer to the center\n",
    "y, x = np.mgrid[800:850, 900:950]\n",
    "psf2 = nis_grid.evaluate(x=x, y=y, flux=1, x_0=925, y_0=825)\n",
    "\n",
    "# Display them and their subtle differences\n",
    "fig, ax = plt.subplots(ncols=3, figsize=(12,6))\n",
    "ax[0].imshow(psf, norm=matplotlib.colors.LogNorm(vmax=0.01, vmin=1e-5))\n",
    "ax[0].set_title(\"PSF centered at (25,25)\")\n",
    "ax[1].imshow(psf2, norm=matplotlib.colors.LogNorm(vmax=0.01, vmin=1e-5))\n",
    "ax[1].set_title(\"PSF centered at (925,825)\")\n",
    "ax[2].imshow(psf2-psf)\n",
    "ax[2].set_title(\"Difference\")"
   ]
  },
  {
   "cell_type": "markdown",
   "metadata": {},
   "source": [
    "## Example Uses of psf_grid"
   ]
  },
  {
   "cell_type": "markdown",
   "metadata": {},
   "source": [
    "### Create a full grid of PSFs for 1 filter and all detectors in NIRCam"
   ]
  },
  {
   "cell_type": "markdown",
   "metadata": {},
   "source": [
    "This is the same example as above."
   ]
  },
  {
   "cell_type": "code",
   "execution_count": null,
   "metadata": {},
   "outputs": [],
   "source": [
    "nir = webbpsf.NIRCam()\n",
    "nir.filter = \"F090W\"\n",
    "grid = nir.psf_grid()"
   ]
  },
  {
   "cell_type": "markdown",
   "metadata": {},
   "source": [
    "### Create a grid for 1 filter and 1 detector"
   ]
  },
  {
   "cell_type": "code",
   "execution_count": null,
   "metadata": {},
   "outputs": [],
   "source": [
    "nir = webbpsf.NIRCam()\n",
    "nir.filter = \"F090W\"\n",
    "nir.detector = \"NRCA2\"\n",
    "grid = nir.psf_grid(all_detectors=False)"
   ]
  },
  {
   "cell_type": "markdown",
   "metadata": {},
   "source": [
    "### Loop through if you want multiple filters or a subset of the detectors"
   ]
  },
  {
   "cell_type": "code",
   "execution_count": null,
   "metadata": {},
   "outputs": [],
   "source": [
    "# Loop through filters\n",
    "grid_filt_list = []\n",
    "nis = webbpsf.NIRISS()\n",
    "for filt in nis.filter_list:\n",
    "    nis.filter = filt\n",
    "    grid = nis.psf_grid()\n",
    "    grid_filt_list.append(grid)\n",
    "\n",
    "# Loop through detectors\n",
    "nir = webbpsf.NIRCam()\n",
    "nir.filter = \"F140M\"\n",
    "grid_det_list = []\n",
    "for det in [\"NRCA1\", \"NRCA2\", \"NRCA3\", \"NRCA4\"]:\n",
    "    nir.detector = det\n",
    "    grid = nir.psf_grid(all_detectors=False)  \n",
    "    grid_det_list.append(grid)"
   ]
  },
  {
   "cell_type": "markdown",
   "metadata": {},
   "source": [
    "### Set the number of PSFs"
   ]
  },
  {
   "cell_type": "markdown",
   "metadata": {},
   "source": [
    "Use the `num_psfs` keyword to set the number of PSFs in the grid. `num_psfs = 4` means you'll have a 2x2 grid. Default is 16, meaning a 4x4 grid."
   ]
  },
  {
   "cell_type": "code",
   "execution_count": null,
   "metadata": {},
   "outputs": [],
   "source": [
    "nis = webbpsf.NIRISS()\n",
    "nis.filter = \"F140M\"\n",
    "grid = nis.psf_grid(num_psfs=4)"
   ]
  },
  {
   "cell_type": "markdown",
   "metadata": {},
   "source": [
    "### Include any `calc_psf()` **kwargs in `psf_grid()`"
   ]
  },
  {
   "cell_type": "markdown",
   "metadata": {},
   "source": [
    "See the docstring of `calc_psf()` for a full description of these keyword arguments."
   ]
  },
  {
   "cell_type": "code",
   "execution_count": null,
   "metadata": {
    "scrolled": false
   },
   "outputs": [],
   "source": [
    "fgs = webbpsf.FGS()\n",
    "fgs.filter = \"FGS\"\n",
    "grid = fgs.psf_grid(fov_pixels=350, oversample=3, add_distortion=True, nlambda=30)"
   ]
  },
  {
   "cell_type": "markdown",
   "metadata": {},
   "source": [
    "### Customize with other WebbPSF settings before the `psf_grid()` method call"
   ]
  },
  {
   "cell_type": "markdown",
   "metadata": {},
   "source": [
    "Anything you can set in WebbPSF can be applied here. Say you want to use a different OPD, your own OPD with extra mirror moves applied to it, a pupil/image mask combination, etc:"
   ]
  },
  {
   "cell_type": "code",
   "execution_count": null,
   "metadata": {},
   "outputs": [],
   "source": [
    "nir = webbpsf.NIRCam()\n",
    "nir.filter = \"F090W\"\n",
    "\n",
    "# Setting extra aspects you want applied to all the PSFs generated in the grid:\n",
    "nir.pupilopd = ('OPD_RevW_ote_for_NIRCam_predicted.fits.gz', 7)\n",
    "nir.pupil_mask = \"WEAK LENS +4\"\n",
    "\n",
    "grid = nir.psf_grid()"
   ]
  },
  {
   "cell_type": "markdown",
   "metadata": {},
   "source": [
    "### Turn off status updates with `verbose=False`"
   ]
  },
  {
   "cell_type": "code",
   "execution_count": null,
   "metadata": {},
   "outputs": [],
   "source": [
    "mir = webbpsf.MIRI()\n",
    "mir.filter = \"F560W\"\n",
    "grid = mir.psf_grid(verbose=False)"
   ]
  },
  {
   "cell_type": "markdown",
   "metadata": {},
   "source": [
    "### Saving files"
   ]
  },
  {
   "cell_type": "markdown",
   "metadata": {},
   "source": [
    "In addition to returning the PSF grid, users can save the `GriddedPSFModel` objects as `FITS` files to create their own library. \n",
    "\n",
    "Users can set `save=True` and then have 2 options for the naming of these files. They can leave `outfile=None` to use the default naming scheme which will save the files in the current directory. Otherwise they can set `outfile` to be a path and the beginning of the filename. The fiename will then have the detector and filter name appended to it and will be saved in the specified path."
   ]
  },
  {
   "cell_type": "code",
   "execution_count": null,
   "metadata": {},
   "outputs": [],
   "source": [
    "nir = webbpsf.NIRCam()\n",
    "nir.filter = \"F090W\"\n",
    "\n",
    "# Don't save (Default)\n",
    "grid = nir.psf_grid()\n",
    "\n",
    "# Save with the default name -> {instr}_{det}_{filt}_fovp{#}_samp{#}_npsf{#}.fits\n",
    "grid = nir.psf_grid(save=True, outfile=None, overwrite=True)"
   ]
  },
  {
   "cell_type": "raw",
   "metadata": {},
   "source": [
    "# Save with your own name -> file will be named start_of_name_{det}_{filt}.fits\n",
    "grid = nir.psf_grid(save=True, outfile=\"/path/to/file/start_of_name\")  # will fail due to fake path"
   ]
  },
  {
   "cell_type": "markdown",
   "metadata": {},
   "source": [
    "To convert the `FITS` file back to a `GriddedPSFModel` object, use `to_griddedpsfmodel()`. You can pass this either a filename or an HDUlist object."
   ]
  },
  {
   "cell_type": "code",
   "execution_count": null,
   "metadata": {},
   "outputs": [],
   "source": [
    "from webbpsf.utils import to_griddedpsfmodel\n",
    "\n",
    "# As a file\n",
    "grid = to_griddedpsfmodel(\"nircam_nrca1_f090w_fovp101_samp4_npsf16.fits\")  # file created 2 cells above\n",
    "\n",
    "# As an HDUlist object\n",
    "hdu = fits.open(\"nircam_nrca1_f090w_fovp101_samp4_npsf16.fits\")\n",
    "grid = to_griddedpsfmodel(hdu, ext=0)"
   ]
  },
  {
   "cell_type": "markdown",
   "metadata": {},
   "source": [
    "## Additional Options, Not Recommended for Typical Uses"
   ]
  },
  {
   "cell_type": "markdown",
   "metadata": {},
   "source": [
    "<div class=\"alert alert-warning\">\n",
    "The following bits of functionality address less common use cases. Most likely you won't need them. </div>"
   ]
  },
  {
   "cell_type": "markdown",
   "metadata": {},
   "source": [
    "### Detector-sampled PSF"
   ]
  },
  {
   "cell_type": "markdown",
   "metadata": {},
   "source": [
    "If you want your ouput grid of PSFs to be detector sampled rather than oversampled, set `use_detsampled_psf=True`. In general we want "
   ]
  },
  {
   "cell_type": "code",
   "execution_count": null,
   "metadata": {},
   "outputs": [],
   "source": [
    "nir = webbpsf.NIRCam()\n",
    "nir.filter = \"F090W\"\n",
    "grid = nir.psf_grid(use_detsampled_psf=True)"
   ]
  },
  {
   "cell_type": "markdown",
   "metadata": {},
   "source": [
    "### If `num_psfs=1`, set the location of the PSF with detector_position attribute"
   ]
  },
  {
   "cell_type": "markdown",
   "metadata": {},
   "source": [
    "Sometimes it may be useful to have a \"grid\" of only 1 PSF, for instance in some software testing scenarios, or because you are simulating some cases in which you don't care about PSF field dependence. \n",
    "\n",
    "If `single_psf_centered = True`, then the single PSF will be at the center of the detector. If it's `False`, then the location of the PSF is pulled from the `detector_position` instrument attribute"
   ]
  },
  {
   "cell_type": "code",
   "execution_count": null,
   "metadata": {},
   "outputs": [],
   "source": [
    "# Option 1: Set the location as the center of the detector (Default)\n",
    "nis = webbpsf.NIRISS()\n",
    "nis.filter = \"F140M\"\n",
    "grid = nis.psf_grid(num_psfs=1)\n",
    "\n",
    "# Option 2: Choose your own location\n",
    "nis = webbpsf.NIRISS()\n",
    "nis.filter = \"F140M\"\n",
    "nis.detector_position = (10,10) # (x,y)\n",
    "grid = nis.psf_grid(num_psfs=1, single_psf_centered=False)"
   ]
  }
 ],
 "metadata": {
  "kernelspec": {
   "display_name": "Python 3",
   "language": "python",
   "name": "python3"
  },
  "language_info": {
   "codemirror_mode": {
    "name": "ipython",
    "version": 3
   },
   "file_extension": ".py",
   "mimetype": "text/x-python",
   "name": "python",
   "nbconvert_exporter": "python",
   "pygments_lexer": "ipython3",
   "version": "3.7.1"
  }
 },
 "nbformat": 4,
 "nbformat_minor": 2
}
